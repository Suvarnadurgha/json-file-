{
  "nbformat": 4,
  "nbformat_minor": 0,
  "metadata": {
    "colab": {
      "provenance": []
    },
    "kernelspec": {
      "name": "python3",
      "display_name": "Python 3"
    },
    "language_info": {
      "name": "python"
    }
  },
  "cells": [
    {
      "cell_type": "code",
      "source": [
        "import json\n",
        "from collections import defaultdict, Counter\n",
        "\n",
        "data = []\n",
        "with open('/content/data_00.json', 'r') as file:\n",
        "    for line in file:\n",
        "        try:\n",
        "            data.append(json.loads(line))\n",
        "        except json.JSONDecodeError as e:\n",
        "            print(\"Error parsing line: {line}\")\n",
        "            print(e)\n",
        "account_totals = defaultdict(float)\n",
        "account_counts = defaultdict(int)\n",
        "\n",
        "# Iteration\n",
        "for entry in data:\n",
        "    for account in entry.get('accountHistory', []):\n",
        "        account_type = account['type']\n",
        "        amount = float(account['amount'])\n",
        "        account_totals[account_type] += amount\n",
        "        account_counts[account_type] += 1\n",
        "\n",
        "print(\"Total amount per account type\")\n",
        "for account_type, total in account_totals.items():\n",
        "    print(f\"{account_type}: {total}\")\n",
        "\n",
        "print(\"\\nTotal number of accounts by type\")\n",
        "for account_type, count in account_counts.items():\n",
        "    print(f\"{account_type}: {count}\")\n",
        "\n"
      ],
      "metadata": {
        "colab": {
          "base_uri": "https://localhost:8080/"
        },
        "id": "cluKan_o4csE",
        "outputId": "9caecd34-7e02-429a-e9ea-07cb4c5e6153"
      },
      "execution_count": null,
      "outputs": [
        {
          "output_type": "stream",
          "name": "stdout",
          "text": [
            "Total amount per account type\n",
            "payment: 37416335.2400001\n",
            "deposit: 37408897.579999864\n",
            "invoice: 37592715.8599999\n",
            "withdrawal: 37275679.66000025\n",
            "\n",
            "Total number of accounts by type\n",
            "payment: 74967\n",
            "deposit: 75067\n",
            "invoice: 75026\n",
            "withdrawal: 74940\n"
          ]
        }
      ]
    },
    {
      "cell_type": "code",
      "source": [],
      "metadata": {
        "id": "GYtMF7Vhb7VY"
      },
      "execution_count": null,
      "outputs": []
    }
  ]
}