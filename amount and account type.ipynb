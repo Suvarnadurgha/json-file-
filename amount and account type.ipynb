{
  "nbformat": 4,
  "nbformat_minor": 0,
  "metadata": {
    "colab": {
      "provenance": []
    },
    "kernelspec": {
      "name": "python3",
      "display_name": "Python 3"
    },
    "language_info": {
      "name": "python"
    }
  },
  "cells": [
    {
      "cell_type": "code",
      "source": [
        "import json\n",
        "from collections import defaultdict, Counter\n",
        "\n",
        "data = []\n",
        "with open('/content/data_00.json', 'r') as file:\n",
        "    for line in file:\n",
        "        try:\n",
        "            data.append(json.loads(line))\n",
        "        except json.JSONDecodeError as e:\n",
        "            print(\"Error parsing line: {line}\")\n",
        "            print(e)\n",
        "account_totals = defaultdict(float)\n",
        "account_counts = defaultdict(int)\n",
        "\n",
        "# Iteration\n",
        "for entry in data:\n",
        "    for account in entry.get('accountHistory', []):\n",
        "        account_type = account['type']\n",
        "        amount = float(account['amount'])\n",
        "        account_totals[account_type] += amount\n",
        "        account_counts[account_type] += 1\n",
        "\n",
        "print(\"Total amount per account type\")\n",
        "for account_type, total in account_totals.items():\n",
        "    print(f\"{account_type}: {total}\")\n",
        "\n",
        "print(\"\\nTotal number of accounts by type\")\n",
        "for account_type, count in account_counts.items():\n",
        "    print(f\"{account_type}: {count}\")\n",
        "\n"
      ],
      "metadata": {
        "id": "cluKan_o4csE"
      },
      "execution_count": null,
      "outputs": []
    },
    {
      "cell_type": "code",
      "source": [],
      "metadata": {
        "id": "GYtMF7Vhb7VY"
      },
      "execution_count": null,
      "outputs": []
    }
  ]
}